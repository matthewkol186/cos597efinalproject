{
 "cells": [
  {
   "cell_type": "code",
   "execution_count": 3,
   "metadata": {},
   "outputs": [],
   "source": [
    "from ber_metrics import BEREstimator\n",
    "import numpy as np\n",
    "import pickle\n",
    "import pandas as pd\n"
   ]
  },
  {
   "cell_type": "markdown",
   "metadata": {},
   "source": [
    "## Adult Income"
   ]
  },
  {
   "cell_type": "code",
   "execution_count": 5,
   "metadata": {},
   "outputs": [
    {
     "name": "stdout",
     "output_type": "stream",
     "text": [
      "(30162, 91)\n",
      "Bhattacharrya upper bound: 6.426276272985858e-44\n",
      "Mahalanobis upper bound: 0.23657243359215477\n"
     ]
    }
   ],
   "source": [
    "X_train, y_train, X_test, y_test = pickle.load(open('Data/adult_income/processed_data_nonsingular.pkl', 'rb'))\n",
    "X_train = X_train.drop(labels=['race_Asian-Pac-Islander', 'race_Black', 'race_Other', 'race_White', 'sex_Male'], axis=1)\n",
    "X_train, y_train, X_test, y_test = np.array(X_train), np.array(y_train), np.array(X_test), np.array(y_test)\n",
    "adult_estimator = BEREstimator(X_train, y_train)\n",
    "print(\"Bhattacharrya upper bound: {}\".format(adult_estimator.bhattacharyya_bound()))\n",
    "print(\"Mahalanobis upper bound: {}\".format(adult_estimator.mahalanobis_bound()))\n",
    "# print(\"Nearest Neighbor upper bound: {}\".format(adult_estimator.nn_bound()))\n"
   ]
  },
  {
   "cell_type": "code",
   "execution_count": 10,
   "metadata": {},
   "outputs": [
    {
     "name": "stdout",
     "output_type": "stream",
     "text": [
      "-----Decoupled Sex-------\n",
      "Male\n"
     ]
    },
    {
     "name": "stderr",
     "output_type": "stream",
     "text": [
      "/Users/AngelinaWang/Documents/School/G2/COS597E/final_project/cos597efinalproject/ber_metrics.py:30: RuntimeWarning: invalid value encountered in true_divide\n",
      "  self.x = (self.x - mu) / std # standardize feature scale\n"
     ]
    },
    {
     "ename": "LinAlgError",
     "evalue": "SVD did not converge",
     "output_type": "error",
     "traceback": [
      "\u001b[0;31m---------------------------------------------------------------------------\u001b[0m",
      "\u001b[0;31mLinAlgError\u001b[0m                               Traceback (most recent call last)",
      "\u001b[0;32m<ipython-input-10-c6f417993be5>\u001b[0m in \u001b[0;36m<module>\u001b[0;34m()\u001b[0m\n\u001b[1;32m     30\u001b[0m \u001b[0madult_estimator\u001b[0m \u001b[0;34m=\u001b[0m \u001b[0mBEREstimator\u001b[0m\u001b[0;34m(\u001b[0m\u001b[0mX_train\u001b[0m\u001b[0;34m,\u001b[0m \u001b[0my_train\u001b[0m\u001b[0;34m)\u001b[0m\u001b[0;34m\u001b[0m\u001b[0m\n\u001b[1;32m     31\u001b[0m \u001b[0mprint\u001b[0m\u001b[0;34m(\u001b[0m\u001b[0;34m\"Male\"\u001b[0m\u001b[0;34m)\u001b[0m\u001b[0;34m\u001b[0m\u001b[0m\n\u001b[0;32m---> 32\u001b[0;31m \u001b[0mprint\u001b[0m\u001b[0;34m(\u001b[0m\u001b[0;34m\"Mahalanobis upper bound: {}\"\u001b[0m\u001b[0;34m.\u001b[0m\u001b[0mformat\u001b[0m\u001b[0;34m(\u001b[0m\u001b[0madult_estimator\u001b[0m\u001b[0;34m.\u001b[0m\u001b[0mmahalanobis_bound\u001b[0m\u001b[0;34m(\u001b[0m\u001b[0;34m)\u001b[0m\u001b[0;34m)\u001b[0m\u001b[0;34m)\u001b[0m\u001b[0;34m\u001b[0m\u001b[0m\n\u001b[0m\u001b[1;32m     33\u001b[0m \u001b[0;31m# print(\"Nearest Neighbor upper bound: {}\".format(adult_estimator.nn_bound()))\u001b[0m\u001b[0;34m\u001b[0m\u001b[0;34m\u001b[0m\u001b[0m\n\u001b[1;32m     34\u001b[0m \u001b[0;34m\u001b[0m\u001b[0m\n",
      "\u001b[0;32m/Users/AngelinaWang/Documents/School/G2/COS597E/final_project/cos597efinalproject/ber_metrics.py\u001b[0m in \u001b[0;36mmahalanobis_bound\u001b[0;34m(self)\u001b[0m\n\u001b[1;32m     53\u001b[0m         \u001b[0msigma_0\u001b[0m \u001b[0;34m=\u001b[0m \u001b[0mnp\u001b[0m\u001b[0;34m.\u001b[0m\u001b[0mcov\u001b[0m\u001b[0;34m(\u001b[0m\u001b[0mself\u001b[0m\u001b[0;34m.\u001b[0m\u001b[0mx\u001b[0m\u001b[0;34m[\u001b[0m\u001b[0mself\u001b[0m\u001b[0;34m.\u001b[0m\u001b[0my\u001b[0m \u001b[0;34m==\u001b[0m \u001b[0;36m0\u001b[0m\u001b[0;34m,\u001b[0m \u001b[0;34m:\u001b[0m\u001b[0;34m]\u001b[0m\u001b[0;34m.\u001b[0m\u001b[0mT\u001b[0m\u001b[0;34m)\u001b[0m\u001b[0;34m\u001b[0m\u001b[0m\n\u001b[1;32m     54\u001b[0m         \u001b[0msigma_1\u001b[0m \u001b[0;34m=\u001b[0m \u001b[0mnp\u001b[0m\u001b[0;34m.\u001b[0m\u001b[0mcov\u001b[0m\u001b[0;34m(\u001b[0m\u001b[0mself\u001b[0m\u001b[0;34m.\u001b[0m\u001b[0mx\u001b[0m\u001b[0;34m[\u001b[0m\u001b[0mself\u001b[0m\u001b[0;34m.\u001b[0m\u001b[0my\u001b[0m \u001b[0;34m==\u001b[0m \u001b[0;36m1\u001b[0m\u001b[0;34m,\u001b[0m \u001b[0;34m:\u001b[0m\u001b[0;34m]\u001b[0m\u001b[0;34m.\u001b[0m\u001b[0mT\u001b[0m\u001b[0;34m)\u001b[0m\u001b[0;34m\u001b[0m\u001b[0m\n\u001b[0;32m---> 55\u001b[0;31m         \u001b[0msigma_inv\u001b[0m \u001b[0;34m=\u001b[0m \u001b[0mnp\u001b[0m\u001b[0;34m.\u001b[0m\u001b[0mlinalg\u001b[0m\u001b[0;34m.\u001b[0m\u001b[0mpinv\u001b[0m\u001b[0;34m(\u001b[0m\u001b[0msigma_0\u001b[0m \u001b[0;34m*\u001b[0m \u001b[0mp_0\u001b[0m \u001b[0;34m+\u001b[0m \u001b[0msigma_1\u001b[0m \u001b[0;34m*\u001b[0m \u001b[0mp_1\u001b[0m\u001b[0;34m)\u001b[0m\u001b[0;34m\u001b[0m\u001b[0m\n\u001b[0m\u001b[1;32m     56\u001b[0m         \u001b[0mm_dist\u001b[0m \u001b[0;34m=\u001b[0m \u001b[0mdistance\u001b[0m\u001b[0;34m.\u001b[0m\u001b[0mmahalanobis\u001b[0m\u001b[0;34m(\u001b[0m\u001b[0mmu_0\u001b[0m\u001b[0;34m,\u001b[0m \u001b[0mmu_1\u001b[0m\u001b[0;34m,\u001b[0m \u001b[0msigma_inv\u001b[0m\u001b[0;34m)\u001b[0m \u001b[0;34m**\u001b[0m \u001b[0;36m2\u001b[0m\u001b[0;34m\u001b[0m\u001b[0m\n\u001b[1;32m     57\u001b[0m         \u001b[0;32mreturn\u001b[0m \u001b[0;36m2\u001b[0m \u001b[0;34m*\u001b[0m \u001b[0mp_0\u001b[0m \u001b[0;34m*\u001b[0m \u001b[0mp_1\u001b[0m \u001b[0;34m/\u001b[0m \u001b[0;34m(\u001b[0m\u001b[0;36m1\u001b[0m \u001b[0;34m+\u001b[0m \u001b[0mp_0\u001b[0m \u001b[0;34m*\u001b[0m \u001b[0mp_1\u001b[0m \u001b[0;34m*\u001b[0m \u001b[0mm_dist\u001b[0m\u001b[0;34m)\u001b[0m\u001b[0;34m\u001b[0m\u001b[0m\n",
      "\u001b[0;32m/Library/Frameworks/Python.framework/Versions/3.5/lib/python3.5/site-packages/numpy/linalg/linalg.py\u001b[0m in \u001b[0;36mpinv\u001b[0;34m(a, rcond)\u001b[0m\n\u001b[1;32m   1936\u001b[0m         \u001b[0;32mreturn\u001b[0m \u001b[0mwrap\u001b[0m\u001b[0;34m(\u001b[0m\u001b[0mres\u001b[0m\u001b[0;34m)\u001b[0m\u001b[0;34m\u001b[0m\u001b[0m\n\u001b[1;32m   1937\u001b[0m     \u001b[0ma\u001b[0m \u001b[0;34m=\u001b[0m \u001b[0ma\u001b[0m\u001b[0;34m.\u001b[0m\u001b[0mconjugate\u001b[0m\u001b[0;34m(\u001b[0m\u001b[0;34m)\u001b[0m\u001b[0;34m\u001b[0m\u001b[0m\n\u001b[0;32m-> 1938\u001b[0;31m     \u001b[0mu\u001b[0m\u001b[0;34m,\u001b[0m \u001b[0ms\u001b[0m\u001b[0;34m,\u001b[0m \u001b[0mvt\u001b[0m \u001b[0;34m=\u001b[0m \u001b[0msvd\u001b[0m\u001b[0;34m(\u001b[0m\u001b[0ma\u001b[0m\u001b[0;34m,\u001b[0m \u001b[0mfull_matrices\u001b[0m\u001b[0;34m=\u001b[0m\u001b[0;32mFalse\u001b[0m\u001b[0;34m)\u001b[0m\u001b[0;34m\u001b[0m\u001b[0m\n\u001b[0m\u001b[1;32m   1939\u001b[0m \u001b[0;34m\u001b[0m\u001b[0m\n\u001b[1;32m   1940\u001b[0m     \u001b[0;31m# discard small singular values\u001b[0m\u001b[0;34m\u001b[0m\u001b[0;34m\u001b[0m\u001b[0m\n",
      "\u001b[0;32m/Library/Frameworks/Python.framework/Versions/3.5/lib/python3.5/site-packages/numpy/linalg/linalg.py\u001b[0m in \u001b[0;36msvd\u001b[0;34m(a, full_matrices, compute_uv)\u001b[0m\n\u001b[1;32m   1610\u001b[0m \u001b[0;34m\u001b[0m\u001b[0m\n\u001b[1;32m   1611\u001b[0m         \u001b[0msignature\u001b[0m \u001b[0;34m=\u001b[0m \u001b[0;34m'D->DdD'\u001b[0m \u001b[0;32mif\u001b[0m \u001b[0misComplexType\u001b[0m\u001b[0;34m(\u001b[0m\u001b[0mt\u001b[0m\u001b[0;34m)\u001b[0m \u001b[0;32melse\u001b[0m \u001b[0;34m'd->ddd'\u001b[0m\u001b[0;34m\u001b[0m\u001b[0m\n\u001b[0;32m-> 1612\u001b[0;31m         \u001b[0mu\u001b[0m\u001b[0;34m,\u001b[0m \u001b[0ms\u001b[0m\u001b[0;34m,\u001b[0m \u001b[0mvh\u001b[0m \u001b[0;34m=\u001b[0m \u001b[0mgufunc\u001b[0m\u001b[0;34m(\u001b[0m\u001b[0ma\u001b[0m\u001b[0;34m,\u001b[0m \u001b[0msignature\u001b[0m\u001b[0;34m=\u001b[0m\u001b[0msignature\u001b[0m\u001b[0;34m,\u001b[0m \u001b[0mextobj\u001b[0m\u001b[0;34m=\u001b[0m\u001b[0mextobj\u001b[0m\u001b[0;34m)\u001b[0m\u001b[0;34m\u001b[0m\u001b[0m\n\u001b[0m\u001b[1;32m   1613\u001b[0m         \u001b[0mu\u001b[0m \u001b[0;34m=\u001b[0m \u001b[0mu\u001b[0m\u001b[0;34m.\u001b[0m\u001b[0mastype\u001b[0m\u001b[0;34m(\u001b[0m\u001b[0mresult_t\u001b[0m\u001b[0;34m,\u001b[0m \u001b[0mcopy\u001b[0m\u001b[0;34m=\u001b[0m\u001b[0;32mFalse\u001b[0m\u001b[0;34m)\u001b[0m\u001b[0;34m\u001b[0m\u001b[0m\n\u001b[1;32m   1614\u001b[0m         \u001b[0ms\u001b[0m \u001b[0;34m=\u001b[0m \u001b[0ms\u001b[0m\u001b[0;34m.\u001b[0m\u001b[0mastype\u001b[0m\u001b[0;34m(\u001b[0m\u001b[0m_realType\u001b[0m\u001b[0;34m(\u001b[0m\u001b[0mresult_t\u001b[0m\u001b[0;34m)\u001b[0m\u001b[0;34m,\u001b[0m \u001b[0mcopy\u001b[0m\u001b[0;34m=\u001b[0m\u001b[0;32mFalse\u001b[0m\u001b[0;34m)\u001b[0m\u001b[0;34m\u001b[0m\u001b[0m\n",
      "\u001b[0;32m/Library/Frameworks/Python.framework/Versions/3.5/lib/python3.5/site-packages/numpy/linalg/linalg.py\u001b[0m in \u001b[0;36m_raise_linalgerror_svd_nonconvergence\u001b[0;34m(err, flag)\u001b[0m\n\u001b[1;32m    104\u001b[0m \u001b[0;34m\u001b[0m\u001b[0m\n\u001b[1;32m    105\u001b[0m \u001b[0;32mdef\u001b[0m \u001b[0m_raise_linalgerror_svd_nonconvergence\u001b[0m\u001b[0;34m(\u001b[0m\u001b[0merr\u001b[0m\u001b[0;34m,\u001b[0m \u001b[0mflag\u001b[0m\u001b[0;34m)\u001b[0m\u001b[0;34m:\u001b[0m\u001b[0;34m\u001b[0m\u001b[0m\n\u001b[0;32m--> 106\u001b[0;31m     \u001b[0;32mraise\u001b[0m \u001b[0mLinAlgError\u001b[0m\u001b[0;34m(\u001b[0m\u001b[0;34m\"SVD did not converge\"\u001b[0m\u001b[0;34m)\u001b[0m\u001b[0;34m\u001b[0m\u001b[0m\n\u001b[0m\u001b[1;32m    107\u001b[0m \u001b[0;34m\u001b[0m\u001b[0m\n\u001b[1;32m    108\u001b[0m \u001b[0;32mdef\u001b[0m \u001b[0m_raise_linalgerror_lstsq\u001b[0m\u001b[0;34m(\u001b[0m\u001b[0merr\u001b[0m\u001b[0;34m,\u001b[0m \u001b[0mflag\u001b[0m\u001b[0;34m)\u001b[0m\u001b[0;34m:\u001b[0m\u001b[0;34m\u001b[0m\u001b[0m\n",
      "\u001b[0;31mLinAlgError\u001b[0m: SVD did not converge"
     ]
    }
   ],
   "source": [
    "# for the different groups\n",
    "print(\"----Decoupled Race-----\")\n",
    "X_train, y_train, X_test, y_test = pickle.load(open('Data/adult_income/processed_data_nonsingular.pkl', 'rb'))\n",
    "X_train, y_train = X_train[X_train['race_Black']==1], y_train[X_train['race_Black']==1]\n",
    "X_test, y_test = X_test[X_test['race_Black']==1], y_test[X_test['race_Black']==1]\n",
    "X_train = X_train.drop(labels=['race_Asian-Pac-Islander', 'race_Black', 'race_Other', 'race_White', 'sex_Male'], axis=1)\n",
    "X_train, y_train, X_test, y_test = np.array(X_train), np.array(y_train), np.array(X_test), np.array(y_test)\n",
    "adult_estimator = BEREstimator(X_train, y_train)\n",
    "print(\"Black\")\n",
    "print(\"Mahalanobis upper bound: {}\".format(adult_estimator.mahalanobis_bound()))\n",
    "# print(\"Nearest Neighbor upper bound: {}\".format(adult_estimator.nn_bound()))\n",
    "\n",
    "X_train, y_train, X_test, y_test = pickle.load(open('Data/adult_income/processed_data_nonsingular.pkl', 'rb'))\n",
    "X_train, y_train = X_train[X_train['race_White']==1], y_train[X_train['race_White']==1]\n",
    "X_test, y_test = X_test[X_test['race_White']==1], y_test[X_test['race_White']==1]\n",
    "X_train = X_train.drop(labels=['race_Asian-Pac-Islander', 'race_Black', 'race_Other', 'race_White', 'sex_Male'], axis=1)\n",
    "X_train, y_train, X_test, y_test = np.array(X_train), np.array(y_train), np.array(X_test), np.array(y_test)\n",
    "adult_estimator = BEREstimator(X_train, y_train)\n",
    "print(\"White\")\n",
    "print(\"Mahalanobis upper bound: {}\".format(adult_estimator.mahalanobis_bound()))\n",
    "# print(\"Nearest Neighbor upper bound: {}\".format(adult_estimator.nn_bound()))\n",
    "\n",
    "print(\"-----Decoupled Sex-------\")\n",
    "X_train, y_train, X_test, y_test = pickle.load(open('Data/adult_income/processed_data_nonsingular.pkl', 'rb'))\n",
    "X_train, y_train = X_train[X_train['sex_Male']==1], y_train[X_train['sex_Male']==1]\n",
    "X_test, y_test = X_test[X_test['sex_Male']==1], y_test[X_test['sex_Male']==1]\n",
    "X_train = X_train.drop(labels=['race_Asian-Pac-Islander', 'race_Black', 'race_Other', 'race_White', 'sex_Male'], axis=1)\n",
    "X_train, y_train, X_test, y_test = np.array(X_train), np.array(y_train), np.array(X_test), np.array(y_test)\n",
    "adult_estimator = BEREstimator(X_train, y_train)\n",
    "print(\"Male\")\n",
    "print(\"Mahalanobis upper bound: {}\".format(adult_estimator.mahalanobis_bound()))\n",
    "# print(\"Nearest Neighbor upper bound: {}\".format(adult_estimator.nn_bound()))\n",
    "\n",
    "X_train, y_train, X_test, y_test = pickle.load(open('Data/adult_income/processed_data_nonsingular.pkl', 'rb'))\n",
    "X_train, y_train = X_train[X_train['sex_Male']==0], y_train[X_train['sex_Male']==0]\n",
    "X_test, y_test = X_test[X_test['sex_Male']==0], y_test[X_test['sex_Male']==0]\n",
    "X_train = X_train.drop(labels=['race_Asian-Pac-Islander', 'race_Black', 'race_Other', 'race_White', 'sex_Male'], axis=1)\n",
    "X_train, y_train, X_test, y_test = np.array(X_train), np.array(y_train), np.array(X_test), np.array(y_test)\n",
    "adult_estimator = BEREstimator(X_train, y_train)\n",
    "print(\"Male\")\n",
    "print(\"Mahalanobis upper bound: {}\".format(adult_estimator.mahalanobis_bound()))\n",
    "# print(\"Nearest Neighbor upper bound: {}\".format(adult_estimator.nn_bound()))\n"
   ]
  },
  {
   "cell_type": "markdown",
   "metadata": {},
   "source": [
    "## COMPAS Recidivism"
   ]
  },
  {
   "cell_type": "code",
   "execution_count": 3,
   "metadata": {},
   "outputs": [
    {
     "name": "stdout",
     "output_type": "stream",
     "text": [
      "Bhattacharrya upper bound: 0.060966314167847147\n",
      "Mahalanobis upper bound: 0.19586095536150863\n"
     ]
    }
   ],
   "source": [
    "X_train, y_train, X_test, y_test = pickle.load(open('Data/compas/processed_violent_nonsingular.pkl', 'rb'))\n",
    "X_train, y_train, X_test, y_test = np.array(X_train), np.array(y_train), np.array(X_test), np.array(y_test)\n",
    "violent_estimator = BEREstimator(X_train, y_train)\n",
    "print(\"Bhattacharrya upper bound: {}\".format(violent_estimator.bhattacharyya_bound()))\n",
    "print(\"Mahalanobis upper bound: {}\".format(violent_estimator.mahalanobis_bound()))\n",
    "# print(\"Nearest Neighbor upper bound: {}\".format(violent_estimator.nn_bound()))"
   ]
  },
  {
   "cell_type": "code",
   "execution_count": 4,
   "metadata": {},
   "outputs": [
    {
     "name": "stdout",
     "output_type": "stream",
     "text": [
      "Bhattacharrya upper bound: 0.02596945557312589\n",
      "Mahalanobis upper bound: 0.18821591060670279\n",
      "Nearest Neighbor upper bound: 0.16203143893591293\n"
     ]
    }
   ],
   "source": [
    "X_train, y_train, X_test, y_test = pickle.load(open('Data/compas/processed_violent.pkl', 'rb'))\n",
    "X_train, y_train, X_test, y_test = np.array(X_train), np.array(y_train), np.array(X_test), np.array(y_test)\n",
    "violent_estimator = BEREstimator(X_train, y_train)\n",
    "print(\"Bhattacharrya upper bound: {}\".format(violent_estimator.bhattacharyya_bound()))\n",
    "print(\"Mahalanobis upper bound: {}\".format(violent_estimator.mahalanobis_bound()))\n",
    "# print(\"Nearest Neighbor upper bound: {}\".format(violent_estimator.nn_bound()))"
   ]
  },
  {
   "cell_type": "code",
   "execution_count": 5,
   "metadata": {},
   "outputs": [
    {
     "name": "stdout",
     "output_type": "stream",
     "text": [
      "Bhattacharrya upper bound: 2.5016397436853592e-05\n",
      "Mahalanobis upper bound: 0.4223692451173532\n"
     ]
    }
   ],
   "source": [
    "X_train, y_train, X_test, y_test = pickle.load(open('Data/compas/processed_arrest_nonsingular.pkl', 'rb'))\n",
    "X_train, y_train, X_test, y_test = np.array(X_train), np.array(y_train), np.array(X_test), np.array(y_test)\n",
    "violent_estimator = BEREstimator(X_train, y_train)\n",
    "print(\"Bhattacharrya upper bound: {}\".format(violent_estimator.bhattacharyya_bound()))\n",
    "print(\"Mahalanobis upper bound: {}\".format(violent_estimator.mahalanobis_bound()))\n",
    "# print(\"Nearest Neighbor upper bound: {}\".format(violent_estimator.nn_bound()))"
   ]
  },
  {
   "cell_type": "code",
   "execution_count": 5,
   "metadata": {},
   "outputs": [
    {
     "name": "stdout",
     "output_type": "stream",
     "text": [
      "Bhattacharrya upper bound: 1.3432602268871714e-08\n",
      "Mahalanobis upper bound: 0.4158120026746693\n",
      "Nearest Neighbor upper bound: 0.441596130592503\n"
     ]
    }
   ],
   "source": [
    "X_train, y_train, X_test, y_test = pickle.load(open('Data/compas/processed_arrest.pkl', 'rb'))\n",
    "X_train, y_train, X_test, y_test = np.array(X_train), np.array(y_train), np.array(X_test), np.array(y_test)\n",
    "violent_estimator = BEREstimator(X_train, y_train)\n",
    "print(\"Bhattacharrya upper bound: {}\".format(violent_estimator.bhattacharyya_bound()))\n",
    "print(\"Mahalanobis upper bound: {}\".format(violent_estimator.mahalanobis_bound()))\n",
    "print(\"Nearest Neighbor upper bound: {}\".format(violent_estimator.nn_bound()))"
   ]
  }
 ],
 "metadata": {
  "kernelspec": {
   "display_name": "Python 3",
   "language": "python",
   "name": "python3"
  },
  "language_info": {
   "codemirror_mode": {
    "name": "ipython",
    "version": 3
   },
   "file_extension": ".py",
   "mimetype": "text/x-python",
   "name": "python",
   "nbconvert_exporter": "python",
   "pygments_lexer": "ipython3",
   "version": "3.5.2"
  }
 },
 "nbformat": 4,
 "nbformat_minor": 4
}
