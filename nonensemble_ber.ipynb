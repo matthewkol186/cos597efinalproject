{
 "cells": [
  {
   "cell_type": "code",
   "execution_count": 77,
   "metadata": {},
   "outputs": [],
   "source": [
    "from ber_metrics import BEREstimator\n",
    "import numpy as np\n",
    "import pickle\n",
    "import pandas as pd"
   ]
  },
  {
   "cell_type": "markdown",
   "metadata": {},
   "source": [
    "## Adult Income"
   ]
  },
  {
   "cell_type": "code",
   "execution_count": 78,
   "metadata": {},
   "outputs": [
    {
     "name": "stdout",
     "output_type": "stream",
     "text": [
      "Bhattacharrya upper bound: 0.028454684268292584\n",
      "Mahalanobis upper bound: 0.23843784291450348\n"
     ]
    }
   ],
   "source": [
    "X_train, y_train, X_test, y_test = pickle.load(open('Data/adult_income/processed_data.pkl', 'rb'))\n",
    "X_train = X_train.drop(labels=['race_Other', 'race_White', 'sex_Male'], axis=1)\n",
    "X = X_train[['capital-gain', 'capital-loss', 'hours-per-week', 'age', 'education-num']]\n",
    "X_train, y_train, X_test, y_test = np.array(X_train), np.array(y_train), np.array(X_test), np.array(y_test)\n",
    "adult_estimator = BEREstimator(X_train, y_train)\n",
    "print(\"Bhattacharrya upper bound: {}\".format(adult_estimator.bhattacharyya_bound()))\n",
    "print(\"Mahalanobis upper bound: {}\".format(adult_estimator.mahalanobis_bound()))\n",
    "# print(\"Nearest Neighbor upper bound: {}\".format(adult_estimator.nn_bound()))\n"
   ]
  },
  {
   "cell_type": "code",
   "execution_count": 5,
   "metadata": {},
   "outputs": [
    {
     "name": "stdout",
     "output_type": "stream",
     "text": [
      "----Decoupled Race-----\n",
      "(2817, 91) (2817,)\n",
      "Black\n",
      "Mahalanobis upper bound: 0.14218138104033312\n",
      "White\n",
      "Mahalanobis upper bound: 0.2463563862753147\n",
      "-----Decoupled Sex-------\n",
      "Male\n",
      "Mahalanobis upper bound: 0.28243467283922163\n",
      "Male\n",
      "Mahalanobis upper bound: 0.12619764677473774\n"
     ]
    }
   ],
   "source": [
    "# for the different groups\n",
    "print(\"----Decoupled Race-----\")\n",
    "X_train, y_train, X_test, y_test = pickle.load(open('Data/adult_income/processed_data_nonsingular.pkl', 'rb'))\n",
    "X_train, y_train = X_train[X_train['race_Black']==1], y_train[X_train['race_Black']==1]\n",
    "X_test, y_test = X_test[X_test['race_Black']==1], y_test[X_test['race_Black']==1]\n",
    "X_train = X_train.drop(labels=['race_Asian-Pac-Islander', 'race_Black', 'race_Other', 'race_White', 'sex_Male'], axis=1)\n",
    "X_train, y_train, X_test, y_test = np.array(X_train), np.array(y_train), np.array(X_test), np.array(y_test)\n",
    "adult_estimator = BEREstimator(X_train, y_train)\n",
    "print(X_train.shape, y_train.shape)\n",
    "print(\"Black\")\n",
    "print(\"Mahalanobis upper bound: {}\".format(adult_estimator.mahalanobis_bound()))\n",
    "# print(\"Nearest Neighbor upper bound: {}\".format(adult_estimator.nn_bound()))\n",
    "\n",
    "X_train, y_train, X_test, y_test = pickle.load(open('Data/adult_income/processed_data_nonsingular.pkl', 'rb'))\n",
    "X_train, y_train = X_train[X_train['race_White']==1], y_train[X_train['race_White']==1]\n",
    "X_test, y_test = X_test[X_test['race_White']==1], y_test[X_test['race_White']==1]\n",
    "X_train = X_train.drop(labels=['race_Asian-Pac-Islander', 'race_Black', 'race_Other', 'race_White', 'sex_Male'], axis=1)\n",
    "X_train, y_train, X_test, y_test = np.array(X_train), np.array(y_train), np.array(X_test), np.array(y_test)\n",
    "adult_estimator = BEREstimator(X_train, y_train)\n",
    "print(\"White\")\n",
    "print(\"Mahalanobis upper bound: {}\".format(adult_estimator.mahalanobis_bound()))\n",
    "# print(\"Nearest Neighbor upper bound: {}\".format(adult_estimator.nn_bound()))\n",
    "\n",
    "print(\"-----Decoupled Sex-------\")\n",
    "X_train, y_train, X_test, y_test = pickle.load(open('Data/adult_income/processed_data_nonsingular.pkl', 'rb'))\n",
    "X_train, y_train = X_train[X_train['sex_Male']==1], y_train[X_train['sex_Male']==1]\n",
    "X_test, y_test = X_test[X_test['sex_Male']==1], y_test[X_test['sex_Male']==1]\n",
    "X_train = X_train.drop(labels=['race_Asian-Pac-Islander', 'race_Black', 'race_Other', 'race_White', 'sex_Male'], axis=1)\n",
    "X_train, y_train, X_test, y_test = np.array(X_train), np.array(y_train), np.array(X_test), np.array(y_test)\n",
    "adult_estimator = BEREstimator(X_train, y_train)\n",
    "print(\"Male\")\n",
    "print(\"Mahalanobis upper bound: {}\".format(adult_estimator.mahalanobis_bound()))\n",
    "# print(\"Nearest Neighbor upper bound: {}\".format(adult_estimator.nn_bound()))\n",
    "\n",
    "X_train, y_train, X_test, y_test = pickle.load(open('Data/adult_income/processed_data_nonsingular.pkl', 'rb'))\n",
    "X_train, y_train = X_train[X_train['sex_Male']==0], y_train[X_train['sex_Male']==0]\n",
    "X_test, y_test = X_test[X_test['sex_Male']==0], y_test[X_test['sex_Male']==0]\n",
    "X_train = X_train.drop(labels=['race_Asian-Pac-Islander', 'race_Black', 'race_Other', 'race_White', 'sex_Male'], axis=1)\n",
    "X_train, y_train, X_test, y_test = np.array(X_train), np.array(y_train), np.array(X_test), np.array(y_test)\n",
    "adult_estimator = BEREstimator(X_train, y_train)\n",
    "print(\"Male\")\n",
    "print(\"Mahalanobis upper bound: {}\".format(adult_estimator.mahalanobis_bound()))\n",
    "# print(\"Nearest Neighbor upper bound: {}\".format(adult_estimator.nn_bound()))\n"
   ]
  },
  {
   "cell_type": "markdown",
   "metadata": {},
   "source": [
    "## COMPAS Recidivism"
   ]
  },
  {
   "cell_type": "code",
   "execution_count": 3,
   "metadata": {},
   "outputs": [
    {
     "name": "stdout",
     "output_type": "stream",
     "text": [
      "Bhattacharrya upper bound: 0.060966314167847147\n",
      "Mahalanobis upper bound: 0.19586095536150863\n"
     ]
    }
   ],
   "source": [
    "X_train, y_train, X_test, y_test = pickle.load(open('Data/compas/processed_violent_nonsingular.pkl', 'rb'))\n",
    "X_train, y_train, X_test, y_test = np.array(X_train), np.array(y_train), np.array(X_test), np.array(y_test)\n",
    "violent_estimator = BEREstimator(X_train, y_train)\n",
    "print(\"Bhattacharrya upper bound: {}\".format(violent_estimator.bhattacharyya_bound()))\n",
    "print(\"Mahalanobis upper bound: {}\".format(violent_estimator.mahalanobis_bound()))\n",
    "# print(\"Nearest Neighbor upper bound: {}\".format(violent_estimator.nn_bound()))"
   ]
  },
  {
   "cell_type": "code",
   "execution_count": 4,
   "metadata": {},
   "outputs": [
    {
     "name": "stdout",
     "output_type": "stream",
     "text": [
      "Bhattacharrya upper bound: 0.08397164606295981\n",
      "Mahalanobis upper bound: 0.19586095536150863\n",
      "Nearest Neighbor upper bound: 0.15114873035066506\n"
     ]
    }
   ],
   "source": [
    "X_train, y_train, X_test, y_test = pickle.load(open('Data/compas/processed_violent_nonsingular.pkl', 'rb'))\n",
    "X_train, y_train, X_test, y_test = np.array(X_train), np.array(y_train), np.array(X_test), np.array(y_test)\n",
    "violent_estimator = BEREstimator(X_train, y_train)\n",
    "print(\"Bhattacharrya upper bound: {}\".format(violent_estimator.bhattacharyya_bound()))\n",
    "print(\"Mahalanobis upper bound: {}\".format(violent_estimator.mahalanobis_bound()))\n",
    "# print(\"Nearest Neighbor upper bound: {}\".format(violent_estimator.nn_bound()))"
   ]
  },
  {
   "cell_type": "code",
   "execution_count": 5,
   "metadata": {},
   "outputs": [
    {
     "name": "stdout",
     "output_type": "stream",
     "text": [
      "Bhattacharrya upper bound: 2.5016397436853592e-05\n",
      "Mahalanobis upper bound: 0.4223692451173532\n"
     ]
    }
   ],
   "source": [
    "X_train, y_train, X_test, y_test = pickle.load(open('Data/compas/processed_arrest_nonsingular.pkl', 'rb'))\n",
    "X_train, y_train, X_test, y_test = np.array(X_train), np.array(y_train), np.array(X_test), np.array(y_test)\n",
    "violent_estimator = BEREstimator(X_train, y_train)\n",
    "print(\"Bhattacharrya upper bound: {}\".format(violent_estimator.bhattacharyya_bound()))\n",
    "print(\"Mahalanobis upper bound: {}\".format(violent_estimator.mahalanobis_bound()))\n",
    "# print(\"Nearest Neighbor upper bound: {}\".format(violent_estimator.nn_bound()))"
   ]
  },
  {
   "cell_type": "code",
   "execution_count": 4,
   "metadata": {},
   "outputs": [
    {
     "name": "stdout",
     "output_type": "stream",
     "text": [
      "Bhattacharrya upper bound: 0.18714772071486613\n",
      "Mahalanobis upper bound: 0.4223692451173532\n",
      "Nearest Neighbor upper bound: 0.437726723095526\n"
     ]
    }
   ],
   "source": [
    "X_train, y_train, X_test, y_test = pickle.load(open('Data/compas/processed_arrest_nonsingular.pkl', 'rb'))\n",
    "X_train, y_train, X_test, y_test = np.array(X_train), np.array(y_train), np.array(X_test), np.array(y_test)\n",
    "arrest_estimator = BEREstimator(X_train, y_train)\n",
    "print(\"Bhattacharrya upper bound: {}\".format(arrest_estimator.bhattacharyya_bound()))\n",
    "print(\"Mahalanobis upper bound: {}\".format(arrest_estimator.mahalanobis_bound()))\n",
    "print(\"Nearest Neighbor upper bound: {}\".format(arrest_estimator.nn_bound()))"
   ]
  }
 ],
 "metadata": {
  "kernelspec": {
   "display_name": "Python 3",
   "language": "python",
   "name": "python3"
  },
  "language_info": {
   "codemirror_mode": {
    "name": "ipython",
    "version": 3
   },
   "file_extension": ".py",
   "mimetype": "text/x-python",
   "name": "python",
   "nbconvert_exporter": "python",
   "pygments_lexer": "ipython3",
   "version": "3.7.6"
  }
 },
 "nbformat": 4,
 "nbformat_minor": 4
}
