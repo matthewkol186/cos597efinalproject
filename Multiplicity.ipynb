{
 "cells": [
  {
   "cell_type": "code",
   "execution_count": 15,
   "metadata": {},
   "outputs": [],
   "source": [
    "import numpy as np\n",
    "from sklearn.metrics import accuracy_score, precision_score, roc_auc_score\n",
    "import pickle\n",
    "from sklearn import preprocessing\n",
    "from sklearn import svm\n",
    "import pandas as pd\n",
    "from scipy.stats import kendalltau\n",
    "from sklearn.model_selection import train_test_split\n",
    "from sklearn.ensemble import RandomForestClassifier\n",
    "import matplotlib.pyplot as plt\n",
    "from sklearn.linear_model import LinearRegression, LogisticRegression\n",
    "from sklearn.inspection import permutation_importance\n",
    "from scipy.cluster import hierarchy\n",
    "from scipy.stats import spearmanr\n",
    "from collections import defaultdict\n",
    "from sklearn.neural_network import MLPClassifier\n",
    "from sklearn.ensemble import BaggingClassifier\n",
    "import time"
   ]
  },
  {
   "cell_type": "code",
   "execution_count": 2,
   "metadata": {},
   "outputs": [],
   "source": [
    "X_train, y_train, X_test, y_test = pickle.load(open('Data/adult_income/processed_data.pkl', 'rb'))"
   ]
  },
  {
   "cell_type": "markdown",
   "metadata": {},
   "source": [
    "# Ensembles"
   ]
  },
  {
   "cell_type": "markdown",
   "metadata": {},
   "source": [
    "### Random Forest"
   ]
  },
  {
   "cell_type": "code",
   "execution_count": 13,
   "metadata": {},
   "outputs": [
    {
     "name": "stdout",
     "output_type": "stream",
     "text": [
      "Overall accuracy: 0.8472775564409031, individual average accuracy: 0.7997310756972112\n"
     ]
    }
   ],
   "source": [
    "rf_model = RandomForestClassifier(n_estimators=100, class_weight='balanced')\n",
    "rf_model.fit(X_train, y_train)\n",
    "all_rf_accuracies = []\n",
    "all_rf_predictions = []\n",
    "\n",
    "for estimator in rf_model.estimators_:\n",
    "    predictions = estimator.predict(X_test)\n",
    "    accuracy = accuracy_score(y_test,predictions)\n",
    "    all_rf_accuracies.append(accuracy)\n",
    "#     prec = precision_score(y_test,predictions)\n",
    "#     roc_auc = roc_auc_score(y_test,predictions)\n",
    "    all_rf_predictions.append(predictions)\n",
    "\n",
    "agg_predictions = rf_model.predict(X_test)\n",
    "print(\"Overall accuracy: {0}, individual average accuracy: {1}\".format(accuracy_score(y_test, agg_predictions), np.mean(all_rf_accuracies)))"
   ]
  },
  {
   "cell_type": "code",
   "execution_count": null,
   "metadata": {},
   "outputs": [],
   "source": [
    "# # all separate trees\n",
    "\n",
    "# all_predictions = []\n",
    "# for rs in range(30):\n",
    "#     np.random.seed(rs)\n",
    "    \n",
    "#     # bootstrapping\n",
    "#     samples = np.random.choice(np.arange(len(X_train)), len(X_train))\n",
    "#     X_train_this, y_train_this = X_train.iloc[samples], y_train.iloc[samples]\n",
    "    \n",
    "# #     model = svm.SVC(class_weight='balanced', random_state=rs)\n",
    "#     model = RandomForestClassifier(n_estimators=1, class_weight='balanced', random_state=rs)\n",
    "#     model.fit(X_train_this, y_train_this)\n",
    "#     predictions = model.predict(X_test)\n",
    "#     accuracy = accuracy_score(y_test,predictions)\n",
    "#     prec = precision_score(y_test,predictions)\n",
    "#     roc_auc = roc_auc_score(y_test,predictions)\n",
    "#     all_predictions.append(predictions)\n",
    "# #     print(\"Accuracy: {0}, Precision: {1}, ROC AUC: {2}\".format(accuracy, prec, roc_auc))"
   ]
  },
  {
   "cell_type": "markdown",
   "metadata": {},
   "source": [
    "### Bagging Ensemble of MLP's"
   ]
  },
  {
   "cell_type": "code",
   "execution_count": 11,
   "metadata": {},
   "outputs": [
    {
     "name": "stderr",
     "output_type": "stream",
     "text": [
      "/Library/Frameworks/Python.framework/Versions/3.5/lib/python3.5/site-packages/sklearn/neural_network/_multilayer_perceptron.py:571: ConvergenceWarning: Stochastic Optimizer: Maximum iterations (200) reached and the optimization hasn't converged yet.\n",
      "  % self.max_iter, ConvergenceWarning)\n",
      "/Library/Frameworks/Python.framework/Versions/3.5/lib/python3.5/site-packages/sklearn/neural_network/_multilayer_perceptron.py:571: ConvergenceWarning: Stochastic Optimizer: Maximum iterations (200) reached and the optimization hasn't converged yet.\n",
      "  % self.max_iter, ConvergenceWarning)\n",
      "/Library/Frameworks/Python.framework/Versions/3.5/lib/python3.5/site-packages/sklearn/neural_network/_multilayer_perceptron.py:571: ConvergenceWarning: Stochastic Optimizer: Maximum iterations (200) reached and the optimization hasn't converged yet.\n",
      "  % self.max_iter, ConvergenceWarning)\n",
      "/Library/Frameworks/Python.framework/Versions/3.5/lib/python3.5/site-packages/sklearn/neural_network/_multilayer_perceptron.py:571: ConvergenceWarning: Stochastic Optimizer: Maximum iterations (200) reached and the optimization hasn't converged yet.\n",
      "  % self.max_iter, ConvergenceWarning)\n",
      "/Library/Frameworks/Python.framework/Versions/3.5/lib/python3.5/site-packages/sklearn/neural_network/_multilayer_perceptron.py:571: ConvergenceWarning: Stochastic Optimizer: Maximum iterations (200) reached and the optimization hasn't converged yet.\n",
      "  % self.max_iter, ConvergenceWarning)\n",
      "/Library/Frameworks/Python.framework/Versions/3.5/lib/python3.5/site-packages/sklearn/neural_network/_multilayer_perceptron.py:571: ConvergenceWarning: Stochastic Optimizer: Maximum iterations (200) reached and the optimization hasn't converged yet.\n",
      "  % self.max_iter, ConvergenceWarning)\n",
      "/Library/Frameworks/Python.framework/Versions/3.5/lib/python3.5/site-packages/sklearn/neural_network/_multilayer_perceptron.py:571: ConvergenceWarning: Stochastic Optimizer: Maximum iterations (200) reached and the optimization hasn't converged yet.\n",
      "  % self.max_iter, ConvergenceWarning)\n",
      "/Library/Frameworks/Python.framework/Versions/3.5/lib/python3.5/site-packages/sklearn/neural_network/_multilayer_perceptron.py:571: ConvergenceWarning: Stochastic Optimizer: Maximum iterations (200) reached and the optimization hasn't converged yet.\n",
      "  % self.max_iter, ConvergenceWarning)\n",
      "/Library/Frameworks/Python.framework/Versions/3.5/lib/python3.5/site-packages/sklearn/neural_network/_multilayer_perceptron.py:571: ConvergenceWarning: Stochastic Optimizer: Maximum iterations (200) reached and the optimization hasn't converged yet.\n",
      "  % self.max_iter, ConvergenceWarning)\n",
      "/Library/Frameworks/Python.framework/Versions/3.5/lib/python3.5/site-packages/sklearn/neural_network/_multilayer_perceptron.py:571: ConvergenceWarning: Stochastic Optimizer: Maximum iterations (200) reached and the optimization hasn't converged yet.\n",
      "  % self.max_iter, ConvergenceWarning)\n"
     ]
    },
    {
     "name": "stdout",
     "output_type": "stream",
     "text": [
      "Took 4.0 minutes\n",
      "Overall accuracy: 0.8408366533864542, individual average accuracy: 0.8306706507304117\n"
     ]
    }
   ],
   "source": [
    "start = time.time()\n",
    "model = BaggingClassifier(base_estimator=MLPClassifier(max_iter=300), n_estimators=10)\n",
    "model.fit(X_train, y_train)\n",
    "all_accuracies = []\n",
    "all_predictions = []\n",
    "\n",
    "for estimator in model.estimators_:\n",
    "    predictions = estimator.predict(X_test)\n",
    "    accuracy = accuracy_score(y_test,predictions)\n",
    "    all_accuracies.append(accuracy)\n",
    "    all_predictions.append(predictions)\n",
    "\n",
    "print(\"Took {} minutes\".format((time.time() - start) // 60))\n",
    "agg_predictions = model.predict(X_test)\n",
    "print(\"Overall accuracy: {0}, individual average accuracy: {1}\".format(accuracy_score(y_test, agg_predictions), np.mean(all_accuracies)))\n"
   ]
  },
  {
   "cell_type": "markdown",
   "metadata": {},
   "source": [
    "# Investigating what is a shared trait amongst those most likely to be wrong"
   ]
  },
  {
   "cell_type": "code",
   "execution_count": 16,
   "metadata": {},
   "outputs": [
    {
     "data": {
      "image/png": "[encoded data removed]",
      "text/plain": [
       "<Figure size 432x288 with 1 Axes>"
      ]
     },
     "metadata": {},
     "output_type": "display_data"
    }
   ],
   "source": [
    "num_rf_wrongs = np.zeros(len(y_test))\n",
    "for predictions in all_rf_predictions:\n",
    "    wrongs = np.array(y_test!=predictions)\n",
    "    num_rf_wrongs += wrongs\n",
    "\n",
    "plt.hist(num_rf_wrongs)\n",
    "plt.title('Number of times out of {} that a sample is wrong'.format(len(all_rf_predictions)))\n",
    "plt.show()"
   ]
  },
  {
   "cell_type": "code",
   "execution_count": 17,
   "metadata": {},
   "outputs": [
    {
     "data": {
      "image/png": "[encoded data removed]",
      "text/plain": [
       "<Figure size 432x288 with 1 Axes>"
      ]
     },
     "metadata": {},
     "output_type": "display_data"
    }
   ],
   "source": [
    "num_wrongs = np.zeros(len(y_test))\n",
    "for predictions in all_predictions:\n",
    "    wrongs = np.array(y_test!=predictions)\n",
    "    num_wrongs += wrongs\n",
    "\n",
    "plt.hist(num_wrongs)\n",
    "plt.title('Number of times out of {} that a sample is wrong'.format(len(all_predictions)))\n",
    "plt.show()"
   ]
  },
  {
   "cell_type": "code",
   "execution_count": 18,
   "metadata": {},
   "outputs": [
    {
     "data": {
      "text/plain": [
       "KendalltauResult(correlation=-0.008397937567744825, pvalue=0.12217642118216845)"
      ]
     },
     "execution_count": 18,
     "metadata": {},
     "output_type": "execute_result"
    }
   ],
   "source": [
    "kendalltau(np.argsort(num_wrongs), np.argsort(num_rf_wrongs))"
   ]
  },
  {
   "cell_type": "code",
   "execution_count": null,
   "metadata": {},
   "outputs": [],
   "source": [
    "dists = []\n",
    "sorted_mlp = list(np.argsort(num_wrongs))\n",
    "sorted_rf = list(np.argsort(num_rf_wrongs))\n",
    "for i in range(len(num_wrongs)):\n",
    "    dists.append(sorted_mlp.index(i) - sorted_rf.index(i))\n",
    "dists = np.absolute(dists)"
   ]
  },
  {
   "cell_type": "code",
   "execution_count": 25,
   "metadata": {},
   "outputs": [
    {
     "data": {
      "text/plain": [
       "(array([5831., 3180., 1914., 1742., 1129.,  764.,  341.,  110.,   41.,\n",
       "           8.]),\n",
       " array([0.        , 0.09575033, 0.19150066, 0.287251  , 0.38300133,\n",
       "        0.47875166, 0.57450199, 0.67025232, 0.76600266, 0.86175299,\n",
       "        0.95750332]),\n",
       " <a list of 10 Patch objects>)"
      ]
     },
     "execution_count": 25,
     "metadata": {},
     "output_type": "execute_result"
    },
    {
     "data": {
      "image/png": "[encoded data removed]",
      "text/plain": [
       "<Figure size 432x288 with 1 Axes>"
      ]
     },
     "metadata": {},
     "output_type": "display_data"
    }
   ],
   "source": [
    "dists = np.array(dists) / len(num_wrongs)\n",
    "plt.hist(dists)"
   ]
  },
  {
   "cell_type": "code",
   "execution_count": 26,
   "metadata": {},
   "outputs": [
    {
     "name": "stdout",
     "output_type": "stream",
     "text": [
      "R^2 score: 0.18549567325069882\n"
     ]
    },
    {
     "data": {
      "image/png": "[encoded data removed]",
      "text/plain": [
       "<Figure size 432x288 with 1 Axes>"
      ]
     },
     "metadata": {},
     "output_type": "display_data"
    }
   ],
   "source": [
    "model = LinearRegression()\n",
    "model.fit(X_test, num_wrongs)\n",
    "importance = model.coef_\n",
    "print(\"R^2 score: {}\".format(model.score(X_test, num_wrongs)))\n",
    "\n",
    "most_important = np.argsort(np.absolute(importance))[-10:]\n",
    "plt.bar(np.array(X_train.keys())[most_important], np.array(importance)[most_important])\n",
    "plt.xticks(rotation='vertical')\n",
    "plt.show()"
   ]
  },
  {
   "cell_type": "code",
   "execution_count": 27,
   "metadata": {},
   "outputs": [
    {
     "name": "stdout",
     "output_type": "stream",
     "text": [
      "R^2 score: 0.32479214375037746\n"
     ]
    },
    {
     "data": {
      "image/png": "[encoded data removed]",
      "text/plain": [
       "<Figure size 432x288 with 1 Axes>"
      ]
     },
     "metadata": {},
     "output_type": "display_data"
    }
   ],
   "source": [
    "model = LinearRegression()\n",
    "model.fit(X_test, num_rf_wrongs)\n",
    "importance = model.coef_\n",
    "print(\"R^2 score: {}\".format(model.score(X_test, num_rf_wrongs)))\n",
    "\n",
    "most_important = np.argsort(np.absolute(importance))[-10:]\n",
    "plt.bar(np.array(X_train.keys())[most_important], np.array(importance)[most_important])\n",
    "plt.xticks(rotation='vertical')\n",
    "plt.show()"
   ]
  },
  {
   "cell_type": "code",
   "execution_count": null,
   "metadata": {},
   "outputs": [],
   "source": [
    "model = svm.SVR()\n",
    "\n",
    "model.fit(X_test, num_wrongs)\n",
    "print(\"R^2 score: {}\".format(model.score(X_test, num_wrongs)))\n",
    "\n",
    "importance = permutation_importance(model, X_test, num_wrongs).importances_mean\n",
    "\n",
    "most_important = np.argsort(np.absolute(importance))[-10:]\n",
    "plt.bar(np.array(X_train.keys())[most_important], np.array(importance)[most_important])\n",
    "plt.xticks(rotation='vertical')\n",
    "plt.show()"
   ]
  },
  {
   "cell_type": "markdown",
   "metadata": {},
   "source": [
    "## Getting rid of collinear features"
   ]
  },
  {
   "cell_type": "code",
   "execution_count": 30,
   "metadata": {},
   "outputs": [
    {
     "name": "stdout",
     "output_type": "stream",
     "text": [
      "Retained only one of ['marital-status_Married-civ-spouse', 'relationship_Husband']\n",
      "Accuracy on test data with features removed: 0.85\n"
     ]
    }
   ],
   "source": [
    "corr = spearmanr(X_train).correlation\n",
    "corr_linkage = hierarchy.ward(corr)\n",
    "cluster_ids = hierarchy.fcluster(corr_linkage, 1, criterion='distance')\n",
    "cluster_id_to_feature_ids = defaultdict(list)\n",
    "for idx, cluster_id in enumerate(cluster_ids):\n",
    "    cluster_id_to_feature_ids[cluster_id].append(idx)\n",
    "# selected_features = [v[0] for v in cluster_id_to_feature_ids.values()]\n",
    "\n",
    "selected_features = []\n",
    "for v in cluster_id_to_feature_ids.values():\n",
    "    if len(v) > 1:\n",
    "        print(\"Retained only one of {}\".format([list(X_train.keys())[ind] for ind in v]))\n",
    "    selected_features.append(v[0])\n",
    "\n",
    "X_train_sel = X_train.iloc[:, selected_features]\n",
    "X_test_sel = X_test.iloc[:, selected_features]\n",
    "\n",
    "clf_sel = RandomForestClassifier()\n",
    "clf_sel.fit(X_train_sel, y_train)\n",
    "print(\"Accuracy on test data with features removed: {:.2f}\".format(\n",
    "      clf_sel.score(X_test_sel, y_test)))"
   ]
  },
  {
   "cell_type": "code",
   "execution_count": null,
   "metadata": {},
   "outputs": [],
   "source": []
  }
 ],
 "metadata": {
  "kernelspec": {
   "display_name": "Python 3",
   "language": "python",
   "name": "python3"
  },
  "language_info": {
   "codemirror_mode": {
    "name": "ipython",
    "version": 3
   },
   "file_extension": ".py",
   "mimetype": "text/x-python",
   "name": "python",
   "nbconvert_exporter": "python",
   "pygments_lexer": "ipython3",
   "version": "3.5.2"
  }
 },
 "nbformat": 4,
 "nbformat_minor": 2
}
