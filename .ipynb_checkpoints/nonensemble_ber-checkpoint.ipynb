{
 "cells": [
  {
   "cell_type": "code",
   "execution_count": null,
   "metadata": {},
   "outputs": [],
   "source": [
    "from ber_metrics import BEREstimator\n",
    "import numpy as np\n",
    "import pickle\n",
    "import pandas as pd"
   ]
  },
  {
   "cell_type": "markdown",
   "metadata": {},
   "source": [
    "## Adult Income"
   ]
  },
  {
   "cell_type": "code",
   "execution_count": null,
   "metadata": {},
   "outputs": [
    {
     "name": "stdout",
     "output_type": "stream",
     "text": [
      "> /home/matthewkol186/pton-research/cos597e/cos597efinalproject/ber_metrics.py(69)bhattacharyya_bound()\n",
      "-> second_term = (1/2) * np.log(np.linalg.det(sigma) / np.sqrt(np.linalg.det(sigma_0) * np.linalg.det(sigma_1)))\n"
     ]
    },
    {
     "name": "stdin",
     "output_type": "stream",
     "text": [
      "(Pdb)  mu_0\n"
     ]
    },
    {
     "name": "stdout",
     "output_type": "stream",
     "text": [
      "array([2.68603567e-01, 1.20038973e-01, 5.75274418e-01, 1.48895327e-03,\n",
      "       1.22699725e-02, 3.91312162e-01, 2.55142580e-02, 6.43594950e-02,\n",
      "       7.68517701e-01, 2.09234572e-02, 7.87940320e-02, 4.12730644e-02,\n",
      "       6.17992408e-04, 3.35923016e-02, 4.36567494e-02, 1.53615256e-02,\n",
      "       6.40063565e-03, 1.21832789e-02, 2.30422883e-02, 1.89811954e-02,\n",
      "       3.31950207e-02, 4.25090492e-02, 1.28807275e-01, 4.19351991e-03,\n",
      "       3.62982255e-01, 3.12969012e-02, 1.98640417e-03, 6.00335482e-03,\n",
      "       2.35808246e-01, 1.66063388e-01, 4.85565463e-04, 3.38394985e-01,\n",
      "       1.49642447e-02, 4.08581266e-01, 3.85362408e-02, 3.29743092e-02,\n",
      "       1.42270681e-01, 3.53138519e-04, 1.37812307e-01, 9.07124570e-02,\n",
      "       3.85803832e-02, 5.59283129e-02, 7.59689238e-02, 1.35958330e-01,\n",
      "       6.26820870e-03, 9.83049351e-02, 1.91577646e-02, 1.15388011e-01,\n",
      "       2.79862276e-02, 5.53103205e-02, 2.99461464e-01, 3.04714399e-01,\n",
      "       3.76975369e-02, 1.94314470e-01, 1.32382802e-01, 3.14293282e-02,\n",
      "       1.11238633e-02, 2.85600777e-02, 1.08192814e-01, 9.26988611e-03,\n",
      "       8.42853359e-01, 3.82713870e-01, 6.17286130e-01, 4.85565463e-04,\n",
      "       3.13410435e-03, 2.11883111e-03, 2.38368500e-03, 2.95753509e-03,\n",
      "       2.86925046e-03, 1.01527324e-03, 4.01695065e-03, 2.47196963e-03,\n",
      "       6.62134722e-04, 3.70795445e-03, 9.26988611e-04, 2.64853889e-03,\n",
      "       1.67740796e-03, 4.41423148e-05, 4.85565463e-04, 5.73850093e-04,\n",
      "       4.41423148e-04, 2.64853889e-03, 1.05941556e-03, 8.38703982e-04,\n",
      "       1.94226185e-03, 3.08996204e-03, 1.58912333e-03, 6.62134722e-04,\n",
      "       2.54701157e-02, 1.36841176e-03, 6.17992408e-04, 1.23598482e-03,\n",
      "       5.65021630e-03, 1.98640417e-03, 1.32426944e-03, 4.28180454e-03,\n",
      "       3.97280833e-04, 2.51611194e-03, 1.01527324e-03, 6.17992408e-04,\n",
      "       7.06277037e-04, 9.05314735e-01, 2.60439657e-03, 4.41423148e-04])\n"
     ]
    },
    {
     "name": "stdin",
     "output_type": "stream",
     "text": [
      "(Pdb)  mu_0.round(2)\n"
     ]
    },
    {
     "name": "stdout",
     "output_type": "stream",
     "text": [
      "array([0.27, 0.12, 0.58, 0.  , 0.01, 0.39, 0.03, 0.06, 0.77, 0.02, 0.08,\n",
      "       0.04, 0.  , 0.03, 0.04, 0.02, 0.01, 0.01, 0.02, 0.02, 0.03, 0.04,\n",
      "       0.13, 0.  , 0.36, 0.03, 0.  , 0.01, 0.24, 0.17, 0.  , 0.34, 0.01,\n",
      "       0.41, 0.04, 0.03, 0.14, 0.  , 0.14, 0.09, 0.04, 0.06, 0.08, 0.14,\n",
      "       0.01, 0.1 , 0.02, 0.12, 0.03, 0.06, 0.3 , 0.3 , 0.04, 0.19, 0.13,\n",
      "       0.03, 0.01, 0.03, 0.11, 0.01, 0.84, 0.38, 0.62, 0.  , 0.  , 0.  ,\n",
      "       0.  , 0.  , 0.  , 0.  , 0.  , 0.  , 0.  , 0.  , 0.  , 0.  , 0.  ,\n",
      "       0.  , 0.  , 0.  , 0.  , 0.  , 0.  , 0.  , 0.  , 0.  , 0.  , 0.  ,\n",
      "       0.03, 0.  , 0.  , 0.  , 0.01, 0.  , 0.  , 0.  , 0.  , 0.  , 0.  ,\n",
      "       0.  , 0.  , 0.91, 0.  , 0.  ])\n"
     ]
    },
    {
     "name": "stdin",
     "output_type": "stream",
     "text": [
      "(Pdb)  self.x.std(axis=0)\n"
     ]
    },
    {
     "name": "stdout",
     "output_type": "stream",
     "text": [
      "array([0.17992393, 0.07182584, 0.16999684, 0.07406298, 0.0928126 ,\n",
      "       0.12224271, 0.17403171, 0.25265309, 0.43924698, 0.18531003,\n",
      "       0.27565929, 0.20150985, 0.02153938, 0.16262662, 0.18313504,\n",
      "       0.11109879, 0.07057787, 0.09724847, 0.13463253, 0.12189193,\n",
      "       0.17972943, 0.20360489, 0.37318135, 0.11080743, 0.46883566,\n",
      "       0.2259033 , 0.03859686, 0.13284097, 0.41519212, 0.34668821,\n",
      "       0.02637718, 0.49886405, 0.11007547, 0.46741747, 0.1736741 ,\n",
      "       0.1632998 , 0.32885817, 0.01727135, 0.34023478, 0.33887302,\n",
      "       0.1780855 , 0.20677282, 0.24684559, 0.3084658 , 0.06869197,\n",
      "       0.34052018, 0.14455272, 0.32358249, 0.17123803, 0.22226609,\n",
      "       0.49240848, 0.43650571, 0.16913145, 0.35516649, 0.3084658 ,\n",
      "       0.2108127 , 0.09691346, 0.16968384, 0.29098611, 0.08717791,\n",
      "       0.34720429, 0.46811848, 0.46811848, 0.02442174, 0.05945524,\n",
      "       0.04742794, 0.04304874, 0.05514428, 0.0470787 , 0.02990593,\n",
      "       0.05748424, 0.0533211 , 0.02990593, 0.0650057 , 0.03099275,\n",
      "       0.04565477, 0.03728997, 0.00575788, 0.01994225, 0.02509053,\n",
      "       0.02075621, 0.05748424, 0.03728997, 0.02819699, 0.04742794,\n",
      "       0.05143257, 0.04418458, 0.02373406, 0.14076615, 0.03305896,\n",
      "       0.02153938, 0.03152205, 0.07870297, 0.04304874, 0.03355556,\n",
      "       0.06000632, 0.01909357, 0.04846044, 0.03728997, 0.02373406,\n",
      "       0.02442174, 0.28347534, 0.04601492, 0.0230258 ])\n"
     ]
    }
   ],
   "source": [
    "X_train, y_train, X_test, y_test = pickle.load(open('Data/adult_income/processed_data.pkl', 'rb'))\n",
    "X_train, y_train, X_test, y_test = np.array(X_train), np.array(y_train), np.array(X_test), np.array(y_test)\n",
    "adult_estimator = BEREstimator(X_train, y_train)\n",
    "print(\"Bhattacharrya upper bound: {}\".format(adult_estimator.bhattacharyya_bound()))\n",
    "print(\"Mahalanobis upper bound: {}\".format(adult_estimator.mahalanobis_bound()))\n",
    "# print(\"Nearest Neighbor upper bound: {}\".format(adult_estimator.nn_bound()))\n"
   ]
  },
  {
   "cell_type": "markdown",
   "metadata": {},
   "source": [
    "## COMPAS Recidivism"
   ]
  },
  {
   "cell_type": "code",
   "execution_count": 31,
   "metadata": {},
   "outputs": [
    {
     "name": "stderr",
     "output_type": "stream",
     "text": [
      "/Users/AngelinaWang/Documents/School/G2/COS597E/final_project/cos597efinalproject/ber_metrics.py:60: RuntimeWarning: Mean of empty slice.\n",
      "/Library/Frameworks/Python.framework/Versions/3.5/lib/python3.5/site-packages/numpy/core/_methods.py:78: RuntimeWarning: invalid value encountered in true_divide\n",
      "/Library/Frameworks/Python.framework/Versions/3.5/lib/python3.5/site-packages/numpy/lib/function_base.py:392: RuntimeWarning: Mean of empty slice.\n",
      "/Users/AngelinaWang/Documents/School/G2/COS597E/final_project/cos597efinalproject/ber_metrics.py:62: RuntimeWarning: Degrees of freedom <= 0 for slice\n",
      "/Library/Frameworks/Python.framework/Versions/3.5/lib/python3.5/site-packages/numpy/lib/function_base.py:2451: RuntimeWarning: divide by zero encountered in true_divide\n",
      "/Library/Frameworks/Python.framework/Versions/3.5/lib/python3.5/site-packages/numpy/lib/function_base.py:2451: RuntimeWarning: invalid value encountered in multiply\n",
      "/Library/Frameworks/Python.framework/Versions/3.5/lib/python3.5/site-packages/numpy/linalg/linalg.py:2093: RuntimeWarning: invalid value encountered in det\n",
      "/Users/AngelinaWang/Documents/School/G2/COS597E/final_project/cos597efinalproject/ber_metrics.py:68: RuntimeWarning: invalid value encountered in sqrt\n",
      "/Users/AngelinaWang/Documents/School/G2/COS597E/final_project/cos597efinalproject/ber_metrics.py:40: RuntimeWarning: Mean of empty slice.\n",
      "/Users/AngelinaWang/Documents/School/G2/COS597E/final_project/cos597efinalproject/ber_metrics.py:42: RuntimeWarning: Degrees of freedom <= 0 for slice\n"
     ]
    },
    {
     "name": "stdout",
     "output_type": "stream",
     "text": [
      "Bhattacharrya upper bound: nan\n",
      "Mahalanobis upper bound: nan\n"
     ]
    },
    {
     "ename": "RecursionError",
     "evalue": "maximum recursion depth exceeded",
     "output_type": "error",
     "traceback": [
      "\u001b[0;31m---------------------------------------------------------------------------\u001b[0m",
      "\u001b[0;31mRecursionError\u001b[0m                            Traceback (most recent call last)",
      "\u001b[0;32m<ipython-input-31-37c96d2f3384>\u001b[0m in \u001b[0;36m<module>\u001b[0;34m()\u001b[0m\n\u001b[1;32m      4\u001b[0m \u001b[0mprint\u001b[0m\u001b[0;34m(\u001b[0m\u001b[0;34m\"Bhattacharrya upper bound: {}\"\u001b[0m\u001b[0;34m.\u001b[0m\u001b[0mformat\u001b[0m\u001b[0;34m(\u001b[0m\u001b[0mviolent_estimator\u001b[0m\u001b[0;34m.\u001b[0m\u001b[0mbhattacharyya_bound\u001b[0m\u001b[0;34m(\u001b[0m\u001b[0;34m)\u001b[0m\u001b[0;34m)\u001b[0m\u001b[0;34m)\u001b[0m\u001b[0;34m\u001b[0m\u001b[0m\n\u001b[1;32m      5\u001b[0m \u001b[0mprint\u001b[0m\u001b[0;34m(\u001b[0m\u001b[0;34m\"Mahalanobis upper bound: {}\"\u001b[0m\u001b[0;34m.\u001b[0m\u001b[0mformat\u001b[0m\u001b[0;34m(\u001b[0m\u001b[0mviolent_estimator\u001b[0m\u001b[0;34m.\u001b[0m\u001b[0mmahalanobis_bound\u001b[0m\u001b[0;34m(\u001b[0m\u001b[0;34m)\u001b[0m\u001b[0;34m)\u001b[0m\u001b[0;34m)\u001b[0m\u001b[0;34m\u001b[0m\u001b[0m\n\u001b[0;32m----> 6\u001b[0;31m \u001b[0mprint\u001b[0m\u001b[0;34m(\u001b[0m\u001b[0;34m\"Nearest Neighbor upper bound: {}\"\u001b[0m\u001b[0;34m.\u001b[0m\u001b[0mformat\u001b[0m\u001b[0;34m(\u001b[0m\u001b[0mviolent_estimator\u001b[0m\u001b[0;34m.\u001b[0m\u001b[0mnn_bound\u001b[0m\u001b[0;34m(\u001b[0m\u001b[0mX_test\u001b[0m\u001b[0;34m,\u001b[0m \u001b[0my_test\u001b[0m\u001b[0;34m)\u001b[0m\u001b[0;34m)\u001b[0m\u001b[0;34m)\u001b[0m\u001b[0;34m\u001b[0m\u001b[0m\n\u001b[0m",
      "\u001b[0;32m/Users/AngelinaWang/Documents/School/G2/COS597E/final_project/cos597efinalproject/ber_metrics.py\u001b[0m in \u001b[0;36mnn_bound\u001b[0;34m(self, test_x, test_y)\u001b[0m\n\u001b[1;32m     89\u001b[0m                 \u001b[0mlabels\u001b[0m \u001b[0mof\u001b[0m \u001b[0mthe\u001b[0m \u001b[0mtest\u001b[0m \u001b[0mset\u001b[0m \u001b[0mdataset\u001b[0m\u001b[0;34m.\u001b[0m\u001b[0;34m\u001b[0m\u001b[0m\n\u001b[1;32m     90\u001b[0m         \"\"\"\n\u001b[0;32m---> 91\u001b[0;31m         \u001b[0mtree\u001b[0m \u001b[0;34m=\u001b[0m \u001b[0mKDTree\u001b[0m\u001b[0;34m(\u001b[0m\u001b[0mself\u001b[0m\u001b[0;34m.\u001b[0m\u001b[0mx\u001b[0m\u001b[0;34m)\u001b[0m\u001b[0;34m\u001b[0m\u001b[0m\n\u001b[0m\u001b[1;32m     92\u001b[0m         \u001b[0m_\u001b[0m\u001b[0;34m,\u001b[0m \u001b[0mclosest_idx\u001b[0m \u001b[0;34m=\u001b[0m \u001b[0mtree\u001b[0m\u001b[0;34m.\u001b[0m\u001b[0mquery\u001b[0m\u001b[0;34m(\u001b[0m\u001b[0mtest_x\u001b[0m\u001b[0;34m)\u001b[0m\u001b[0;34m\u001b[0m\u001b[0m\n\u001b[1;32m     93\u001b[0m         \u001b[0mpredict_y\u001b[0m \u001b[0;34m=\u001b[0m \u001b[0mself\u001b[0m\u001b[0;34m.\u001b[0m\u001b[0my\u001b[0m\u001b[0;34m[\u001b[0m\u001b[0mclosest_idx\u001b[0m\u001b[0;34m]\u001b[0m\u001b[0;34m\u001b[0m\u001b[0m\n",
      "\u001b[0;32m/Library/Frameworks/Python.framework/Versions/3.5/lib/python3.5/site-packages/scipy/spatial/kdtree.py\u001b[0m in \u001b[0;36m__init__\u001b[0;34m(self, data, leafsize)\u001b[0m\n\u001b[1;32m    249\u001b[0m         \u001b[0mself\u001b[0m\u001b[0;34m.\u001b[0m\u001b[0mmins\u001b[0m \u001b[0;34m=\u001b[0m \u001b[0mnp\u001b[0m\u001b[0;34m.\u001b[0m\u001b[0mamin\u001b[0m\u001b[0;34m(\u001b[0m\u001b[0mself\u001b[0m\u001b[0;34m.\u001b[0m\u001b[0mdata\u001b[0m\u001b[0;34m,\u001b[0m\u001b[0maxis\u001b[0m\u001b[0;34m=\u001b[0m\u001b[0;36m0\u001b[0m\u001b[0;34m)\u001b[0m\u001b[0;34m\u001b[0m\u001b[0m\n\u001b[1;32m    250\u001b[0m \u001b[0;34m\u001b[0m\u001b[0m\n\u001b[0;32m--> 251\u001b[0;31m         \u001b[0mself\u001b[0m\u001b[0;34m.\u001b[0m\u001b[0mtree\u001b[0m \u001b[0;34m=\u001b[0m \u001b[0mself\u001b[0m\u001b[0;34m.\u001b[0m\u001b[0m__build\u001b[0m\u001b[0;34m(\u001b[0m\u001b[0mnp\u001b[0m\u001b[0;34m.\u001b[0m\u001b[0marange\u001b[0m\u001b[0;34m(\u001b[0m\u001b[0mself\u001b[0m\u001b[0;34m.\u001b[0m\u001b[0mn\u001b[0m\u001b[0;34m)\u001b[0m\u001b[0;34m,\u001b[0m \u001b[0mself\u001b[0m\u001b[0;34m.\u001b[0m\u001b[0mmaxes\u001b[0m\u001b[0;34m,\u001b[0m \u001b[0mself\u001b[0m\u001b[0;34m.\u001b[0m\u001b[0mmins\u001b[0m\u001b[0;34m)\u001b[0m\u001b[0;34m\u001b[0m\u001b[0m\n\u001b[0m\u001b[1;32m    252\u001b[0m \u001b[0;34m\u001b[0m\u001b[0m\n\u001b[1;32m    253\u001b[0m     \u001b[0;32mclass\u001b[0m \u001b[0mnode\u001b[0m\u001b[0;34m(\u001b[0m\u001b[0mobject\u001b[0m\u001b[0;34m)\u001b[0m\u001b[0;34m:\u001b[0m\u001b[0;34m\u001b[0m\u001b[0m\n",
      "\u001b[0;32m/Library/Frameworks/Python.framework/Versions/3.5/lib/python3.5/site-packages/scipy/spatial/kdtree.py\u001b[0m in \u001b[0;36m__build\u001b[0;34m(self, idx, maxes, mins)\u001b[0m\n\u001b[1;32m    322\u001b[0m             \u001b[0mgreatermins\u001b[0m\u001b[0;34m[\u001b[0m\u001b[0md\u001b[0m\u001b[0;34m]\u001b[0m \u001b[0;34m=\u001b[0m \u001b[0msplit\u001b[0m\u001b[0;34m\u001b[0m\u001b[0m\n\u001b[1;32m    323\u001b[0m             return KDTree.innernode(d, split,\n\u001b[0;32m--> 324\u001b[0;31m                     \u001b[0mself\u001b[0m\u001b[0;34m.\u001b[0m\u001b[0m__build\u001b[0m\u001b[0;34m(\u001b[0m\u001b[0midx\u001b[0m\u001b[0;34m[\u001b[0m\u001b[0mless_idx\u001b[0m\u001b[0;34m]\u001b[0m\u001b[0;34m,\u001b[0m\u001b[0mlessmaxes\u001b[0m\u001b[0;34m,\u001b[0m\u001b[0mmins\u001b[0m\u001b[0;34m)\u001b[0m\u001b[0;34m,\u001b[0m\u001b[0;34m\u001b[0m\u001b[0m\n\u001b[0m\u001b[1;32m    325\u001b[0m                     self.__build(idx[greater_idx],maxes,greatermins))\n\u001b[1;32m    326\u001b[0m \u001b[0;34m\u001b[0m\u001b[0m\n",
      "\u001b[0;32m/Library/Frameworks/Python.framework/Versions/3.5/lib/python3.5/site-packages/scipy/spatial/kdtree.py\u001b[0m in \u001b[0;36m__build\u001b[0;34m(self, idx, maxes, mins)\u001b[0m\n\u001b[1;32m    323\u001b[0m             return KDTree.innernode(d, split,\n\u001b[1;32m    324\u001b[0m                     \u001b[0mself\u001b[0m\u001b[0;34m.\u001b[0m\u001b[0m__build\u001b[0m\u001b[0;34m(\u001b[0m\u001b[0midx\u001b[0m\u001b[0;34m[\u001b[0m\u001b[0mless_idx\u001b[0m\u001b[0;34m]\u001b[0m\u001b[0;34m,\u001b[0m\u001b[0mlessmaxes\u001b[0m\u001b[0;34m,\u001b[0m\u001b[0mmins\u001b[0m\u001b[0;34m)\u001b[0m\u001b[0;34m,\u001b[0m\u001b[0;34m\u001b[0m\u001b[0m\n\u001b[0;32m--> 325\u001b[0;31m                     self.__build(idx[greater_idx],maxes,greatermins))\n\u001b[0m\u001b[1;32m    326\u001b[0m \u001b[0;34m\u001b[0m\u001b[0m\n\u001b[1;32m    327\u001b[0m     \u001b[0;32mdef\u001b[0m \u001b[0m__query\u001b[0m\u001b[0;34m(\u001b[0m\u001b[0mself\u001b[0m\u001b[0;34m,\u001b[0m \u001b[0mx\u001b[0m\u001b[0;34m,\u001b[0m \u001b[0mk\u001b[0m\u001b[0;34m=\u001b[0m\u001b[0;36m1\u001b[0m\u001b[0;34m,\u001b[0m \u001b[0meps\u001b[0m\u001b[0;34m=\u001b[0m\u001b[0;36m0\u001b[0m\u001b[0;34m,\u001b[0m \u001b[0mp\u001b[0m\u001b[0;34m=\u001b[0m\u001b[0;36m2\u001b[0m\u001b[0;34m,\u001b[0m \u001b[0mdistance_upper_bound\u001b[0m\u001b[0;34m=\u001b[0m\u001b[0mnp\u001b[0m\u001b[0;34m.\u001b[0m\u001b[0minf\u001b[0m\u001b[0;34m)\u001b[0m\u001b[0;34m:\u001b[0m\u001b[0;34m\u001b[0m\u001b[0m\n",
      "\u001b[0;32m/Library/Frameworks/Python.framework/Versions/3.5/lib/python3.5/site-packages/scipy/spatial/kdtree.py\u001b[0m in \u001b[0;36m__build\u001b[0;34m(self, idx, maxes, mins)\u001b[0m\n\u001b[1;32m    322\u001b[0m             \u001b[0mgreatermins\u001b[0m\u001b[0;34m[\u001b[0m\u001b[0md\u001b[0m\u001b[0;34m]\u001b[0m \u001b[0;34m=\u001b[0m \u001b[0msplit\u001b[0m\u001b[0;34m\u001b[0m\u001b[0m\n\u001b[1;32m    323\u001b[0m             return KDTree.innernode(d, split,\n\u001b[0;32m--> 324\u001b[0;31m                     \u001b[0mself\u001b[0m\u001b[0;34m.\u001b[0m\u001b[0m__build\u001b[0m\u001b[0;34m(\u001b[0m\u001b[0midx\u001b[0m\u001b[0;34m[\u001b[0m\u001b[0mless_idx\u001b[0m\u001b[0;34m]\u001b[0m\u001b[0;34m,\u001b[0m\u001b[0mlessmaxes\u001b[0m\u001b[0;34m,\u001b[0m\u001b[0mmins\u001b[0m\u001b[0;34m)\u001b[0m\u001b[0;34m,\u001b[0m\u001b[0;34m\u001b[0m\u001b[0m\n\u001b[0m\u001b[1;32m    325\u001b[0m                     self.__build(idx[greater_idx],maxes,greatermins))\n\u001b[1;32m    326\u001b[0m \u001b[0;34m\u001b[0m\u001b[0m\n",
      "... last 1 frames repeated, from the frame below ...\n",
      "\u001b[0;32m/Library/Frameworks/Python.framework/Versions/3.5/lib/python3.5/site-packages/scipy/spatial/kdtree.py\u001b[0m in \u001b[0;36m__build\u001b[0;34m(self, idx, maxes, mins)\u001b[0m\n\u001b[1;32m    322\u001b[0m             \u001b[0mgreatermins\u001b[0m\u001b[0;34m[\u001b[0m\u001b[0md\u001b[0m\u001b[0;34m]\u001b[0m \u001b[0;34m=\u001b[0m \u001b[0msplit\u001b[0m\u001b[0;34m\u001b[0m\u001b[0m\n\u001b[1;32m    323\u001b[0m             return KDTree.innernode(d, split,\n\u001b[0;32m--> 324\u001b[0;31m                     \u001b[0mself\u001b[0m\u001b[0;34m.\u001b[0m\u001b[0m__build\u001b[0m\u001b[0;34m(\u001b[0m\u001b[0midx\u001b[0m\u001b[0;34m[\u001b[0m\u001b[0mless_idx\u001b[0m\u001b[0;34m]\u001b[0m\u001b[0;34m,\u001b[0m\u001b[0mlessmaxes\u001b[0m\u001b[0;34m,\u001b[0m\u001b[0mmins\u001b[0m\u001b[0;34m)\u001b[0m\u001b[0;34m,\u001b[0m\u001b[0;34m\u001b[0m\u001b[0m\n\u001b[0m\u001b[1;32m    325\u001b[0m                     self.__build(idx[greater_idx],maxes,greatermins))\n\u001b[1;32m    326\u001b[0m \u001b[0;34m\u001b[0m\u001b[0m\n",
      "\u001b[0;31mRecursionError\u001b[0m: maximum recursion depth exceeded"
     ]
    }
   ],
   "source": [
    "X_train, y_train, X_test, y_test = pickle.load(open('Data/compas/processed_violent.pkl', 'rb'))\n",
    "X_train, y_train, X_test, y_test = np.array(X_train), np.array(y_train), np.array(X_test), np.array(y_test)\n",
    "violent_estimator = BEREstimator(X_train, y_train)\n",
    "print(\"Bhattacharrya upper bound: {}\".format(violent_estimator.bhattacharyya_bound()))\n",
    "print(\"Mahalanobis upper bound: {}\".format(violent_estimator.mahalanobis_bound()))\n",
    "print(\"Nearest Neighbor upper bound: {}\".format(violent_estimator.nn_bound(X_test, y_test)))"
   ]
  },
  {
   "cell_type": "code",
   "execution_count": null,
   "metadata": {},
   "outputs": [],
   "source": [
    "X_train, y_train, X_test, y_test = pickle.load(open('Data/compas/processed_arrest.pkl', 'rb'))\n",
    "X_train, y_train, X_test, y_test = np.array(X_train), np.array(y_train), np.array(X_test), np.array(y_test)\n",
    "violent_estimator = BEREstimator(X_train, y_train)\n",
    "print(\"Bhattacharrya upper bound: {}\".format(violent_estimator.bhattacharyya_bound()))\n",
    "print(\"Mahalanobis upper bound: {}\".format(violent_estimator.mahalanobis_bound()))\n",
    "print(\"Nearest Neighbor upper bound: {}\".format(violent_estimator.nn_bound(X_test, y_test)))"
   ]
  }
 ],
 "metadata": {
  "kernelspec": {
   "display_name": "Python 3",
   "language": "python",
   "name": "python3"
  },
  "language_info": {
   "codemirror_mode": {
    "name": "ipython",
    "version": 3
   },
   "file_extension": ".py",
   "mimetype": "text/x-python",
   "name": "python",
   "nbconvert_exporter": "python",
   "pygments_lexer": "ipython3",
   "version": "3.7.6"
  }
 },
 "nbformat": 4,
 "nbformat_minor": 4
}
